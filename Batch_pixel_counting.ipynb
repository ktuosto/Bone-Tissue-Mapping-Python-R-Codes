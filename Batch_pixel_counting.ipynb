{
  "metadata": {
    "language_info": {
      "codemirror_mode": {
        "name": "python",
        "version": 3
      },
      "file_extension": ".py",
      "mimetype": "text/x-python",
      "name": "python",
      "nbconvert_exporter": "python",
      "pygments_lexer": "ipython3",
      "version": "3.8"
    },
    "kernelspec": {
      "name": "python",
      "display_name": "Python (Pyodide)",
      "language": "python"
    }
  },
  "nbformat_minor": 4,
  "nbformat": 4,
  "cells": [
    {
      "cell_type": "markdown",
      "source": "# Batch pixel count code for bone tissue mapping and creation of new variables \n\nThe following code counts the number of pixels in a cortical bone tissue mapped image, creates new variables based on the pixel counts, and is meant for research purposes. However, the code can be modified to count any color in an image, provided that the color codes are changed.\n\nThis code can also be applied to batches of smaller-size image files (e.g., infants, juveniles, small monkeys, etc.), or to batches of larger images on a system with powerful computing power. \n\n**All code produces long format data frame.**",
      "metadata": {}
    },
    {
      "cell_type": "markdown",
      "source": "### Packages\nPackages required ",
      "metadata": {}
    },
    {
      "cell_type": "code",
      "source": "# !python3 -mpip install Pillow",
      "metadata": {},
      "execution_count": null,
      "outputs": []
    },
    {
      "cell_type": "markdown",
      "source": "### Modules\nModules to import/load",
      "metadata": {}
    },
    {
      "cell_type": "code",
      "source": "from PIL import Image\nimport numpy as np\nimport pandas as pd",
      "metadata": {},
      "execution_count": null,
      "outputs": []
    },
    {
      "cell_type": "markdown",
      "source": "### Load Image",
      "metadata": {}
    },
    {
      "cell_type": "code",
      "source": "# List of image filenames\nimage_files = ['image1.png', 'image2.png', 'image3.png']  # Replace with your filenames or paths",
      "metadata": {},
      "execution_count": null,
      "outputs": []
    },
    {
      "cell_type": "markdown",
      "source": "### Defining the colors and labels",
      "metadata": {}
    },
    {
      "cell_type": "code",
      "source": "# Define the colors and labels\ncolors = {\n    \"WOV\": \"#0d2d1d\",\n    \"FLC\": \"#12422d\",\n    \"FLC-LZPO\": \"#135b42\",\n    \"PF\": \"#1f7b5c\",\n    \"PF-LAM\": \"#289871\",\n    \"LAM\": \"#6bc3a6\",\n    \"ELAM\": \"#e18174\",\n    \"ECCC\": \"#e19a22\",\n    \"EPF\": \"#b54f52\",\n    \"EPF-LAM\": \"#dd615e\",\n    \"SF\": \"#f6f4c4\",\n    \"INT\": \"#b5e2b8\",\n    \"HAV\": \"#4e5c91\",\n    \"BK\": \"#ffffff\" # Background color of white\n}",
      "metadata": {},
      "execution_count": null,
      "outputs": []
    },
    {
      "cell_type": "markdown",
      "source": "### Convert hex to RGB",
      "metadata": {}
    },
    {
      "cell_type": "code",
      "source": "# Function to convert hex to RGB\ndef hex_to_rgb(value):\n    value = value.lstrip('#') \n    length = len(value) \n    return tuple(int(value[i:i+length//3], 16) for i in range(0, length, length//3)) ",
      "metadata": {},
      "execution_count": null,
      "outputs": []
    },
    {
      "cell_type": "code",
      "source": "### Pixel count and new variables ",
      "metadata": {},
      "execution_count": null,
      "outputs": []
    },
    {
      "cell_type": "code",
      "source": "# Function to count pixels for a given image\ndef process_image(image_path):\n    img = Image.open(image_path)\n    img_array = np.array(img)\n    \n    # Count pixels for each color\n    pixel_counts = {} # Creates an empty dictionary \n    for label, color in colors.items():\n        rgb_color = hex_to_rgb(color)\n        count = np.sum(np.all(img_array[:, :, :3] == rgb_color, axis=2))\n        pixel_counts[label] = count\n        \n    # Convert pixel_counts dictionary to a DataFrame\n    df_pixel_counts = pd.DataFrame(list(pixel_counts.items()), columns=['Tissue Type', 'Pixel Count'])\n    \n    # Calculate C.Ar\n    df_pixel_counts['C.Ar'] = df_pixel_counts['Pixel Count'].sum() - df_pixel_counts[df_pixel_counts['Tissue Type'] == 'BK']['Pixel Count'].iloc[0]\n    \n    # Calculate the percent of each tissue type based on C.Ar (excluding BK)\n    c_ar_value = df_pixel_counts[df_pixel_counts['Tissue Type'] == 'C.Ar']['Pixel Count'].values[0]\n    df_pixel_counts['Percent of C.Ar'] = np.where(df_pixel_counts['Tissue Type'] != 'BK', \n                                                       (df_pixel_counts['Pixel Count'] / c_ar_value) * 100, \n                                                       np.nan)\n    \n    # Calculate the sum for the tissues from WOV to LAM\n    sum_tissues = df_pixel_counts[df_pixel_counts['Tissue Type'].isin(['WOV', 'FLC', 'FLC-LZPO', 'PF', 'PF-LAM', 'LAM'])]['Pixel Count'].sum()\n\n    # Calculate the percent of each tissue type based on the sum\n    df_pixel_counts['Percent of P.Ar'] = np.where(df_pixel_counts['Tissue Type'].isin(['WOV', 'FLC', 'FLC-LZPO', 'PF', 'PF-LAM', 'LAM']), \n                                                       (df_pixel_counts['Pixel Count'] / sum_tissues) * 100, \n                                                       np.nan)\n    \n    # Calculate the sum for the tissues from ELAM to EPF-LAM\n    sum_tissues_e = df_pixel_counts[df_pixel_counts['Tissue Type'].isin(['ELAM', 'ECCC', 'EPF', 'EPF-LAM'])]['Pixel Count'].sum()\n\n    # Calculate the percent of each tissue type based on the sum\n    df_pixel_counts['Percent of E.Ar'] = np.where(df_pixel_counts['Tissue Type'].isin(['ELAM', 'ECCC', 'EPF', 'EPF-LAM']), \n                                                       (df_pixel_counts['Pixel Count'] / sum_tissues_e) * 100, \n                                                       np.nan)\n\n    # Add a column for the image filename \n    df_pixel_counts['Image File'] = image_path\n    \n    return df_pixel_counts",
      "metadata": {},
      "execution_count": null,
      "outputs": []
    },
    {
      "cell_type": "markdown",
      "source": "### Data frame for results",
      "metadata": {}
    },
    {
      "cell_type": "code",
      "source": "# List to hold DataFrames for each image\ndfs = []\n\n# Iterate over image files and process each one\nfor image_file in image_files:\n    df_pixel_counts = process_image(image_file)\n    dfs.append(df_pixel_counts)\n\n# Combine all the DataFrames into a single DataFrame (if needed)\ncombined_df = pd.concat(dfs, axis=0).reset_index(drop=True)",
      "metadata": {},
      "execution_count": null,
      "outputs": []
    },
    {
      "cell_type": "code",
      "source": "",
      "metadata": {},
      "execution_count": null,
      "outputs": []
    },
    {
      "cell_type": "code",
      "source": "",
      "metadata": {},
      "execution_count": null,
      "outputs": []
    },
    {
      "cell_type": "code",
      "source": "",
      "metadata": {},
      "execution_count": null,
      "outputs": []
    },
    {
      "cell_type": "code",
      "source": "",
      "metadata": {},
      "execution_count": null,
      "outputs": []
    }
  ]
}
