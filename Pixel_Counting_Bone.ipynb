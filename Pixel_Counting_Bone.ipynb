{
  "metadata": {
    "language_info": {
      "codemirror_mode": {
        "name": "python",
        "version": 3
      },
      "file_extension": ".py",
      "mimetype": "text/x-python",
      "name": "python",
      "nbconvert_exporter": "python",
      "pygments_lexer": "ipython3",
      "version": "3.8"
    },
    "kernelspec": {
      "name": "python",
      "display_name": "Python (Pyodide)",
      "language": "python"
    }
  },
  "nbformat_minor": 4,
  "nbformat": 4,
  "cells": [
    {
      "cell_type": "markdown",
      "source": "# Pixel count code for bone tissue mapping\n\nThe following code counts the number of pixels in a cortical bone tissue mapped image and is meant for research purposes. However, the code can be modified to count any color in an image, provided that the color codes are changed. \n\n**Code produces a long format data frame.**\n\n*Note: Due to the file size of some of the tissue maps (i.e., adult humans, gorillas, chimpanzees, etc.) and the average computing power this code is setup to run one image at a time. \n",
      "metadata": {
        "tags": []
      }
    },
    {
      "cell_type": "markdown",
      "source": "### Packages\nPackages required ",
      "metadata": {}
    },
    {
      "cell_type": "code",
      "source": "# !python3 -mpip install Pillow",
      "metadata": {},
      "execution_count": null,
      "outputs": []
    },
    {
      "cell_type": "markdown",
      "source": "### Modules\nModules to import/load",
      "metadata": {}
    },
    {
      "cell_type": "code",
      "source": "from PIL import Image\nimport numpy as np\nimport pandas as pd",
      "metadata": {},
      "execution_count": null,
      "outputs": []
    },
    {
      "cell_type": "markdown",
      "source": "### Load Image",
      "metadata": {}
    },
    {
      "cell_type": "code",
      "source": "# Load the image\nimg = Image.open('filename') # Change file name and location",
      "metadata": {},
      "execution_count": null,
      "outputs": []
    },
    {
      "cell_type": "markdown",
      "source": "'img' is an image object (i.e., our image) that contains methods and attributes related to the image, like dimensions, format, and pixel data.",
      "metadata": {}
    },
    {
      "cell_type": "code",
      "source": "img_array = np.array(img) # We are extracting the pixel data from 'img' object and putting it in a 3-D array ('height', 'width', 'channels').",
      "metadata": {},
      "execution_count": null,
      "outputs": []
    },
    {
      "cell_type": "code",
      "source": "'height' = number of pixels in the vertical direction of the image\n'width' = number of pixels in the horizontal direction\n'channels' = RGB color channels, red, green, and blue with each color channel values ranging from 0 to 255",
      "metadata": {},
      "execution_count": null,
      "outputs": []
    },
    {
      "cell_type": "markdown",
      "source": "### Defining the colors and labels",
      "metadata": {}
    },
    {
      "cell_type": "code",
      "source": "# Define the colors and labels\ncolors = {\n    \"WOV\": \"#0d2d1d\",\n    \"FLC\": \"#12422d\",\n    \"FLC-LZPO\": \"#135b42\",\n    \"PF\": \"#1f7b5c\",\n    \"PF-LAM\": \"#289871\",\n    \"LAM\": \"#6bc3a6\",\n    \"ELAM\": \"#e18174\",\n    \"ECCC\": \"#e19a22\",\n    \"EPF\": \"#b54f52\",\n    \"EPF-LAM\": \"#dd615e\",\n    \"SF\": \"#f6f4c4\",\n    \"INT\": \"#b5e2b8\",\n    \"HAV\": \"#4e5c91\",\n    \"BK\": \"#ffffff\" # Background color of white\n}",
      "metadata": {},
      "execution_count": null,
      "outputs": []
    },
    {
      "cell_type": "markdown",
      "source": "### Function to convert hex to RGB",
      "metadata": {}
    },
    {
      "cell_type": "code",
      "source": "# Function to convert hex to RGB\ndef hex_to_rgb(value):\n    value = value.lstrip('#') # Removing # in front of our hexadecimal colors\n    length = len(value) \n    return tuple(int(value[i:i+length//3], 16) for i in range(0, length, length//3)) # This is creating a tuple",
      "metadata": {},
      "execution_count": null,
      "outputs": []
    },
    {
      "cell_type": "markdown",
      "source": "This function will take our hexadecimal colors (e.g., '#FFA500') and convert it into RGB tuple (e.g, '(255, 165, 0)').",
      "metadata": {
        "tags": []
      }
    },
    {
      "cell_type": "markdown",
      "source": "#### Code break down for academic collaborators with no Python knowledge or experience\n\n**'def hex_to_rgb(value):'** \n\nThis defines a new function (i.e., hex_to_rgb()).\n\n**'value = value.lstrip('#')'**\n\nThis just removes '#' characters that we have in front of our hexadecimals colors.\n\n**'length = len(value)'**\n\nThis gets the length of the string value (e.g., len('0d2d1d') is 6) and assigns it to the variable 'length'. \n\n**'return tuple(int(value[i:i+length//3], 16) for i in range(0, length, length//3))'**\n\nThe returns a tuple--a fixed-size, immutable sequence of objects--so we will output of R, G, and B values.\n\n**'int(..., 16)'**\n\nThis converts the hex segment (like FF or A5) into an integer using base 16 (hexadecimal). So FF becomes 255, and A5 becomes 165. \n\n**'value[i:i+length//3]'**\n\nThis slices the hex string to get a segment representing a color channel. For RRGGBB, it would slice RR, then GG, then BB.\n\n**'for i in range(0, length, length//3)'**\n\nThis loops over the start indices of each segment of the hex string. For a typical 6-character hex code (RRGGBB), it would loop over the indices 0, 2, and 4.",
      "metadata": {}
    },
    {
      "cell_type": "markdown",
      "source": "### Pixel counts",
      "metadata": {}
    },
    {
      "cell_type": "code",
      "source": "# Count pixels for each color\npixel_counts = {} # Creates an empty dictionary \nfor label, color in colors.items():\n    rgb_color = hex_to_rgb(color)\n    count = np.sum(np.all(img_array[:, :, :3] == rgb_color, axis=2))\n    pixel_counts[label] = count",
      "metadata": {},
      "execution_count": null,
      "outputs": []
    },
    {
      "cell_type": "markdown",
      "source": "This is first converting the hex colors to RGB colors and then counting the number of pixels in the image by color (i.e., img_array) and label that is associated with the color. ",
      "metadata": {}
    },
    {
      "cell_type": "markdown",
      "source": "#### Code break down for academic collaborators with no Python knowledge or experience\n\n**'pixel_counts = {}'** \n\nCreates an empty dictionary that will be populated with the pixel counts and corresponding labels. Output will look like this: \n\n**'pixel_counts = {\"WOV\": 0, \"FLC\": 125,...}'**\n\n**'for label, color in colors.items():'**\n\nThis will loops over each key-value pair in the **'colors'** dictionary. **'label'** will be the tissue type (like \"WOV\", \"FLC\", etc.), and color will be the corresponding hex color code.\n\n**'rgb_color = hex_to_rgb(color)'**\n\nThis is the function above, converting the hex colors to RGB tuple. \n\n**'count = np.sum(np.all(img_array[:, :, :3] == rgb_color, axis=2))'**\n\n**'img_array[:, :, :3]'**\n\nThis slices the image array to get the first three channels (R, G, B). \n\nThe **':3'** means we are taking channels 0, 1, and 2 (which are the RGB channels). This is done to ensure we're only comparing RGB values, even if the image has an alpha (transparency) channel or any other additional channels.\n\n**'img_array[:, :, :3] == rgb_color'**\n\nThis checks if each pixel in the image matches the given rgb_color. It produces a Boolean array of the same shape as img_array, but with **'True'** where pixels match and **'False'** otherwise.\n\n**'np.all(..., axis=2)'**\n\nThis checks if all the RGB values of each pixel match the target rgb_color. The **'axis=2'** part ensures the comparison happens across the color channels, resulting in a 2D Boolean array where **'True'** indicates a match for the entire pixel and **'False'** indicates otherwise.\n\n**'np.sum(...)'**\n\nThis counts how many **'True'** values are in the 2D Boolean array, effectively counting how many pixels in the image match the target color.\n\n**'pixel_counts[label] = count'**\n\nThis stores the pixel counts for the current color in the **'pixel_counts'** in the dictionary with the tissue tpye **'label'** as the key. \n",
      "metadata": {}
    },
    {
      "cell_type": "markdown",
      "source": "### Data frame for results",
      "metadata": {}
    },
    {
      "cell_type": "code",
      "source": "# Create a data frame for the results\ndf_pixel_counts = pd.DataFrame(list(pixel_counts.items()), columns=['Tissue Type', 'Pixel Count'])\ndf_pixel_counts",
      "metadata": {},
      "execution_count": null,
      "outputs": []
    },
    {
      "cell_type": "markdown",
      "source": "This code creates a data frame for which we can see our pixel counts for each color/tissue type. ",
      "metadata": {}
    },
    {
      "cell_type": "markdown",
      "source": "#### Code break down for academic collaborators with no Python knowledge or experience\n\n**'pixel_counts.items()'**\n\nThis method returns a view of the dictionary's items as tuple pairs, where the first item in each tuple is the key, and the second item is the corresponding value. For pixel_counts, this would yield pairs like ('WOV', 12345), ('FLC', 67890), etc. \n\n**'list(...)'**\n\nWe had to convert the view to a list as the **'pd.DataFrame()'**  expects the data to be in a list or array. The **'items()'** method only returns a \"view\" on the dictionary's items, which is not a list. To make it suitable for creating a DataFrame, we convert it into a list.\n\n**'pd.DataFrame(..., columns=['Tissue Type', 'Pixel Count'])'**\n\nThis creates a new pandas DataFrame from the list of tuples. The columns argument specifies the names of the columns in the resulting DataFrame. The first column will contain the tissue types (the keys from the dictionary), and the second column will contain the pixel counts (the values from the dictionary).",
      "metadata": {}
    },
    {
      "cell_type": "markdown",
      "source": "### Export file as a .csv",
      "metadata": {}
    },
    {
      "cell_type": "code",
      "source": "df_pixel_counts.to_csv('pixel_counts.csv', index=False)\n",
      "metadata": {},
      "execution_count": null,
      "outputs": []
    }
  ]
}
