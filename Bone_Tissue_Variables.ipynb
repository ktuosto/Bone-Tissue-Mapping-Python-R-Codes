{
  "metadata": {
    "language_info": {
      "codemirror_mode": {
        "name": "python",
        "version": 3
      },
      "file_extension": ".py",
      "mimetype": "text/x-python",
      "name": "python",
      "nbconvert_exporter": "python",
      "pygments_lexer": "ipython3",
      "version": "3.8"
    },
    "kernelspec": {
      "name": "python",
      "display_name": "Python (Pyodide)",
      "language": "python"
    }
  },
  "nbformat_minor": 4,
  "nbformat": 4,
  "cells": [
    {
      "cell_type": "markdown",
      "source": "# Create New Bone Tissue Variables\n\nThe following code creates 4 new cortical bone variables from the pixel counts of the cortical bone tissue mapped image. \n\nThe first code chunk will create a new variable by adding all the tissue types to create pixel cortical area (C.Ar).\n\nThe second code chunk will convert the pixel values into percentages (e.g., tissue type/C.Ar) and into new variables.\n\nThe third code chunk will create two new variables calculating percent periosteal area (e.g., periosteal tissue type/periosteal area) and percent endosteal area (e.g., endosteal tissue type/endosteal area).  \n\n**All codes assume long format data frames.**\n\n*Note: These codes are set up for one map's values. ",
      "metadata": {}
    },
    {
      "cell_type": "markdown",
      "source": "### Modules\nModules to import/load",
      "metadata": {}
    },
    {
      "cell_type": "code",
      "source": "import numpy as np\nimport pandas as pd",
      "metadata": {
        "trusted": true
      },
      "execution_count": 1,
      "outputs": []
    },
    {
      "cell_type": "markdown",
      "source": "### Load in dataset",
      "metadata": {}
    },
    {
      "cell_type": "code",
      "source": "# Load the .csv file\ndf = pd.read_csv('Long_format_tissue_map_pixels.csv')\n\n# Display the first few rows of the DataFrame\ndf.head()",
      "metadata": {
        "trusted": true
      },
      "execution_count": 5,
      "outputs": [
        {
          "execution_count": 5,
          "output_type": "execute_result",
          "data": {
            "text/plain": "       ID Tissue Type  Pixel Count\n0  GP.004         WOV       631440\n1  GP.004         FLC      9856109\n2  GP.004    FLC-LZPO      7635902\n3  GP.004          PF     23627650\n4  GP.004      PF-LAM      3850163",
            "text/html": "<div>\n<style scoped>\n    .dataframe tbody tr th:only-of-type {\n        vertical-align: middle;\n    }\n\n    .dataframe tbody tr th {\n        vertical-align: top;\n    }\n\n    .dataframe thead th {\n        text-align: right;\n    }\n</style>\n<table border=\"1\" class=\"dataframe\">\n  <thead>\n    <tr style=\"text-align: right;\">\n      <th></th>\n      <th>ID</th>\n      <th>Tissue Type</th>\n      <th>Pixel Count</th>\n    </tr>\n  </thead>\n  <tbody>\n    <tr>\n      <th>0</th>\n      <td>GP.004</td>\n      <td>WOV</td>\n      <td>631440</td>\n    </tr>\n    <tr>\n      <th>1</th>\n      <td>GP.004</td>\n      <td>FLC</td>\n      <td>9856109</td>\n    </tr>\n    <tr>\n      <th>2</th>\n      <td>GP.004</td>\n      <td>FLC-LZPO</td>\n      <td>7635902</td>\n    </tr>\n    <tr>\n      <th>3</th>\n      <td>GP.004</td>\n      <td>PF</td>\n      <td>23627650</td>\n    </tr>\n    <tr>\n      <th>4</th>\n      <td>GP.004</td>\n      <td>PF-LAM</td>\n      <td>3850163</td>\n    </tr>\n  </tbody>\n</table>\n</div>"
          },
          "metadata": {}
        }
      ]
    },
    {
      "cell_type": "markdown",
      "source": "### Pixel number of cortical area (C.Ar)",
      "metadata": {}
    },
    {
      "cell_type": "code",
      "source": "# Calculate the pixel count for C.Ar (excluding BK, which is the background)\nc_ar_pixel_count = df[df['Tissue Type'] != 'BK']['Pixel Count'].sum()\n\n# Append the new tissue type and its count to the dataframe\ndf_pixel_counts = df.append({'Tissue Type': 'C.Ar', 'Pixel Count': c_ar_pixel_count}, ignore_index=True)\ndf_pixel_counts\n",
      "metadata": {
        "trusted": true
      },
      "execution_count": 13,
      "outputs": [
        {
          "name": "stderr",
          "text": "<ipython-input-13-19b22463a384>:5: FutureWarning: The frame.append method is deprecated and will be removed from pandas in a future version. Use pandas.concat instead.\n  df_pixel_counts = df_pixel_counts.append({'Tissue Type': 'C.Ar', 'Pixel Count': c_ar_pixel_count}, ignore_index=True)\n",
          "output_type": "stream"
        },
        {
          "execution_count": 13,
          "output_type": "execute_result",
          "data": {
            "text/plain": "          ID Tissue Type  Pixel Count\n0     GP.004         WOV       631440\n1     GP.004         FLC      9856109\n2     GP.004    FLC-LZPO      7635902\n3     GP.004          PF     23627650\n4     GP.004      PF-LAM      3850163\n...      ...         ...          ...\n1075     101     EPF-LAM         3508\n1076     101          SF        35902\n1077     101         INT            0\n1078     101         HAV       101630\n1079     NaN        C.Ar    976083268\n\n[1080 rows x 3 columns]",
            "text/html": "<div>\n<style scoped>\n    .dataframe tbody tr th:only-of-type {\n        vertical-align: middle;\n    }\n\n    .dataframe tbody tr th {\n        vertical-align: top;\n    }\n\n    .dataframe thead th {\n        text-align: right;\n    }\n</style>\n<table border=\"1\" class=\"dataframe\">\n  <thead>\n    <tr style=\"text-align: right;\">\n      <th></th>\n      <th>ID</th>\n      <th>Tissue Type</th>\n      <th>Pixel Count</th>\n    </tr>\n  </thead>\n  <tbody>\n    <tr>\n      <th>0</th>\n      <td>GP.004</td>\n      <td>WOV</td>\n      <td>631440</td>\n    </tr>\n    <tr>\n      <th>1</th>\n      <td>GP.004</td>\n      <td>FLC</td>\n      <td>9856109</td>\n    </tr>\n    <tr>\n      <th>2</th>\n      <td>GP.004</td>\n      <td>FLC-LZPO</td>\n      <td>7635902</td>\n    </tr>\n    <tr>\n      <th>3</th>\n      <td>GP.004</td>\n      <td>PF</td>\n      <td>23627650</td>\n    </tr>\n    <tr>\n      <th>4</th>\n      <td>GP.004</td>\n      <td>PF-LAM</td>\n      <td>3850163</td>\n    </tr>\n    <tr>\n      <th>...</th>\n      <td>...</td>\n      <td>...</td>\n      <td>...</td>\n    </tr>\n    <tr>\n      <th>1075</th>\n      <td>101</td>\n      <td>EPF-LAM</td>\n      <td>3508</td>\n    </tr>\n    <tr>\n      <th>1076</th>\n      <td>101</td>\n      <td>SF</td>\n      <td>35902</td>\n    </tr>\n    <tr>\n      <th>1077</th>\n      <td>101</td>\n      <td>INT</td>\n      <td>0</td>\n    </tr>\n    <tr>\n      <th>1078</th>\n      <td>101</td>\n      <td>HAV</td>\n      <td>101630</td>\n    </tr>\n    <tr>\n      <th>1079</th>\n      <td>NaN</td>\n      <td>C.Ar</td>\n      <td>976083268</td>\n    </tr>\n  </tbody>\n</table>\n<p>1080 rows × 3 columns</p>\n</div>"
          },
          "metadata": {}
        }
      ]
    },
    {
      "cell_type": "markdown",
      "source": "### Reorder C.Ar above BK\nOptional, but I prefer usable variables together over a useless variable like BK (i.e., background) ",
      "metadata": {}
    },
    {
      "cell_type": "code",
      "source": "# Reorder the dataframe to move C.Ar above BK\nreordered_index = df_pixel_counts.index.tolist()\nreordered_index.remove(14)\nreordered_index.insert(-1, 14)\ndf_pixel_counts_reordered = df_pixel_counts.reindex(reordered_index).reset_index(drop=True)\ndf_pixel_counts_reordered\n",
      "metadata": {},
      "execution_count": null,
      "outputs": []
    },
    {
      "cell_type": "markdown",
      "source": "### Convert pixel counts into percentages ",
      "metadata": {}
    },
    {
      "cell_type": "code",
      "source": "# Calculate the percent of each tissue type based on C.Ar (excluding BK)\nc_ar_value = df_pixel_counts_reordered[df_pixel_counts_reordered['Tissue Type'] == 'C.Ar']['Pixel Count'].values[0]\ndf_pixel_counts_reordered['Percent of C.Ar'] = np.where(df_pixel_counts_reordered['Tissue Type'] != 'BK', \n                                                       (df_pixel_counts_reordered['Pixel Count'] / c_ar_value) * 100, \n                                                       np.nan)\n\ndf_pixel_counts_reordered\n",
      "metadata": {},
      "execution_count": null,
      "outputs": []
    },
    {
      "cell_type": "markdown",
      "source": "### Calculate percent periosteal tissue types by area",
      "metadata": {}
    },
    {
      "cell_type": "code",
      "source": "# Calculate the sum for the tissues from WOV to LAM\nsum_tissues = df_pixel_counts_reordered[df_pixel_counts_reordered['Tissue Type'].isin(['WOV', 'FLC', 'FLC-LZPO', 'PF', 'PF-LAM', 'LAM'])]['Pixel Count'].sum()\n\n# Calculate the percent of each tissue type based on the sum\ndf_pixel_counts_reordered['Percent of P.Ar'] = np.where(df_pixel_counts_reordered['Tissue Type'].isin(['WOV', 'FLC', 'FLC-LZPO', 'PF', 'PF-LAM', 'LAM']), \n                                                       (df_pixel_counts_reordered['Pixel Count'] / sum_tissues) * 100, \n                                                       np.nan)\n\ndf_pixel_counts_reordered\n",
      "metadata": {},
      "execution_count": null,
      "outputs": []
    },
    {
      "cell_type": "markdown",
      "source": "### Calculate percent endosteal tissue types by area",
      "metadata": {}
    },
    {
      "cell_type": "code",
      "source": "# Calculate the sum for the tissues from ELAM to EPF-LAM\nsum_tissues_e = df_pixel_counts_reordered[df_pixel_counts_reordered['Tissue Type'].isin(['ELAM', 'ECCC', 'EPF', 'EPF-LAM'])]['Pixel Count'].sum()\n\n# Calculate the percent of each tissue type based on the sum\ndf_pixel_counts_reordered['Percent of E.Ar'] = np.where(df_pixel_counts_reordered['Tissue Type'].isin(['ELAM', 'ECCC', 'EPF', 'EPF-LAM']), \n                                                       (df_pixel_counts_reordered['Pixel Count'] / sum_tissues_e) * 100, \n                                                       np.nan)\n\ndf_pixel_counts_reordered\n",
      "metadata": {},
      "execution_count": null,
      "outputs": []
    },
    {
      "cell_type": "markdown",
      "source": "### Export .cvs file",
      "metadata": {}
    },
    {
      "cell_type": "code",
      "source": "df_pixel_counts_reordered.to_csv('df_map_values.csv', index=False)",
      "metadata": {},
      "execution_count": null,
      "outputs": []
    },
    {
      "cell_type": "markdown",
      "source": "## Code to calculate C.Ar and percentages in a data frame",
      "metadata": {}
    },
    {
      "cell_type": "code",
      "source": "def calculate_percentages_updated_v5(df):\n    # Get the ID value for the group\n    current_id = df['ID'].iloc[0]\n    \n    # Check for BK presence, if not present use 0\n    bk_pixel_count = df[df['Tissue Type'] == 'BK']['Pixel Count'].iloc[0] if 'BK' in df['Tissue Type'].values else 0\n    \n    # Calculate C.Ar\n    c_ar_value = df['Pixel Count'].sum() - bk_pixel_count\n    \n    # Add the C.Ar row to the dataframe using pandas.concat\n    new_row = pd.DataFrame({'ID': [current_id], 'Tissue Type': ['C.Ar'], 'Pixel Count': [c_ar_value]})\n    df = pd.concat([df, new_row], ignore_index=True)\n    \n    # Calculate the percent of each tissue type based on C.Ar (excluding BK)\n    df['Percent of C.Ar'] = np.where(df['Tissue Type'] != 'BK', \n                                     (df['Pixel Count'] / c_ar_value) * 100, \n                                     np.nan)\n    \n    # Calculate the sum for the tissues from WOV to LAM\n    sum_tissues = df[df['Tissue Type'].isin(['WOV', 'FLC', 'FLC-LZPO', 'PF', 'PF-LAM', 'LAM'])]['Pixel Count'].sum()\n\n    # Calculate the percent of each tissue type based on the sum\n    df['Percent of P.Ar'] = np.where(df['Tissue Type'].isin(['WOV', 'FLC', 'FLC-LZPO', 'PF', 'PF-LAM', 'LAM']), \n                                     (df['Pixel Count'] / sum_tissues) * 100, \n                                     np.nan)\n    \n    # Calculate the sum for the tissues from ELAM to EPF-LAM\n    sum_tissues_e = df[df['Tissue Type'].isin(['ELAM', 'ECCC', 'EPF', 'EPF-LAM'])]['Pixel Count'].sum()\n\n    # Calculate the percent of each tissue type based on the sum\n    df['Percent of E.Ar'] = np.where(df['Tissue Type'].isin(['ELAM', 'ECCC', 'EPF', 'EPF-LAM']), \n                                     (df['Pixel Count'] / sum_tissues_e) * 100, \n                                     np.nan)\n    \n    return df\n",
      "metadata": {
        "trusted": true
      },
      "execution_count": 9,
      "outputs": []
    },
    {
      "cell_type": "markdown",
      "source": "### Code to group ID",
      "metadata": {}
    },
    {
      "cell_type": "code",
      "source": "def calculate_percentages_per_id(df):\n    # Group by ID and apply calculations\n    df_grouped = df.groupby('ID').apply(calculate_percentages_updated_v5)\n    \n    # Reset the index\n    df_grouped.reset_index(drop=True, inplace=True)\n    \n    return df_grouped\n",
      "metadata": {
        "trusted": true
      },
      "execution_count": 10,
      "outputs": []
    },
    {
      "cell_type": "markdown",
      "source": "### Convert and calculate pixels",
      "metadata": {}
    },
    {
      "cell_type": "code",
      "source": "# Test the updated function\nresult_df_per_id = calculate_percentages_per_id(df)\nresult_df_per_id.head(15)",
      "metadata": {
        "trusted": true
      },
      "execution_count": 11,
      "outputs": [
        {
          "execution_count": 11,
          "output_type": "execute_result",
          "data": {
            "text/plain": "     ID Tissue Type  Pixel Count  Percent of C.Ar  Percent of P.Ar  \\\n0   101         WOV            0         0.000000         0.000000   \n1   101         FLC            0         0.000000         0.000000   \n2   101    FLC-LZPO         3512         0.286754         0.405799   \n3   101          PF            0         0.000000         0.000000   \n4   101      PF-LAM         7020         0.573181         0.811135   \n5   101         LAM       854922        69.804139        98.783066   \n6   101        ELAM       218250        17.820051              NaN   \n7   101        ECCC            0         0.000000              NaN   \n8   101         EPF            0         0.000000              NaN   \n9   101     EPF-LAM         3508         0.286427              NaN   \n10  101          SF        35902         2.931388              NaN   \n11  101         INT            0         0.000000              NaN   \n12  101         HAV       101630         8.298061              NaN   \n13  101        C.Ar      1224744       100.000000              NaN   \n14   11         WOV            0         0.000000         0.000000   \n\n    Percent of E.Ar  \n0               NaN  \n1               NaN  \n2               NaN  \n3               NaN  \n4               NaN  \n5               NaN  \n6         98.418095  \n7          0.000000  \n8          0.000000  \n9          1.581905  \n10              NaN  \n11              NaN  \n12              NaN  \n13              NaN  \n14              NaN  ",
            "text/html": "<div>\n<style scoped>\n    .dataframe tbody tr th:only-of-type {\n        vertical-align: middle;\n    }\n\n    .dataframe tbody tr th {\n        vertical-align: top;\n    }\n\n    .dataframe thead th {\n        text-align: right;\n    }\n</style>\n<table border=\"1\" class=\"dataframe\">\n  <thead>\n    <tr style=\"text-align: right;\">\n      <th></th>\n      <th>ID</th>\n      <th>Tissue Type</th>\n      <th>Pixel Count</th>\n      <th>Percent of C.Ar</th>\n      <th>Percent of P.Ar</th>\n      <th>Percent of E.Ar</th>\n    </tr>\n  </thead>\n  <tbody>\n    <tr>\n      <th>0</th>\n      <td>101</td>\n      <td>WOV</td>\n      <td>0</td>\n      <td>0.000000</td>\n      <td>0.000000</td>\n      <td>NaN</td>\n    </tr>\n    <tr>\n      <th>1</th>\n      <td>101</td>\n      <td>FLC</td>\n      <td>0</td>\n      <td>0.000000</td>\n      <td>0.000000</td>\n      <td>NaN</td>\n    </tr>\n    <tr>\n      <th>2</th>\n      <td>101</td>\n      <td>FLC-LZPO</td>\n      <td>3512</td>\n      <td>0.286754</td>\n      <td>0.405799</td>\n      <td>NaN</td>\n    </tr>\n    <tr>\n      <th>3</th>\n      <td>101</td>\n      <td>PF</td>\n      <td>0</td>\n      <td>0.000000</td>\n      <td>0.000000</td>\n      <td>NaN</td>\n    </tr>\n    <tr>\n      <th>4</th>\n      <td>101</td>\n      <td>PF-LAM</td>\n      <td>7020</td>\n      <td>0.573181</td>\n      <td>0.811135</td>\n      <td>NaN</td>\n    </tr>\n    <tr>\n      <th>5</th>\n      <td>101</td>\n      <td>LAM</td>\n      <td>854922</td>\n      <td>69.804139</td>\n      <td>98.783066</td>\n      <td>NaN</td>\n    </tr>\n    <tr>\n      <th>6</th>\n      <td>101</td>\n      <td>ELAM</td>\n      <td>218250</td>\n      <td>17.820051</td>\n      <td>NaN</td>\n      <td>98.418095</td>\n    </tr>\n    <tr>\n      <th>7</th>\n      <td>101</td>\n      <td>ECCC</td>\n      <td>0</td>\n      <td>0.000000</td>\n      <td>NaN</td>\n      <td>0.000000</td>\n    </tr>\n    <tr>\n      <th>8</th>\n      <td>101</td>\n      <td>EPF</td>\n      <td>0</td>\n      <td>0.000000</td>\n      <td>NaN</td>\n      <td>0.000000</td>\n    </tr>\n    <tr>\n      <th>9</th>\n      <td>101</td>\n      <td>EPF-LAM</td>\n      <td>3508</td>\n      <td>0.286427</td>\n      <td>NaN</td>\n      <td>1.581905</td>\n    </tr>\n    <tr>\n      <th>10</th>\n      <td>101</td>\n      <td>SF</td>\n      <td>35902</td>\n      <td>2.931388</td>\n      <td>NaN</td>\n      <td>NaN</td>\n    </tr>\n    <tr>\n      <th>11</th>\n      <td>101</td>\n      <td>INT</td>\n      <td>0</td>\n      <td>0.000000</td>\n      <td>NaN</td>\n      <td>NaN</td>\n    </tr>\n    <tr>\n      <th>12</th>\n      <td>101</td>\n      <td>HAV</td>\n      <td>101630</td>\n      <td>8.298061</td>\n      <td>NaN</td>\n      <td>NaN</td>\n    </tr>\n    <tr>\n      <th>13</th>\n      <td>101</td>\n      <td>C.Ar</td>\n      <td>1224744</td>\n      <td>100.000000</td>\n      <td>NaN</td>\n      <td>NaN</td>\n    </tr>\n    <tr>\n      <th>14</th>\n      <td>11</td>\n      <td>WOV</td>\n      <td>0</td>\n      <td>0.000000</td>\n      <td>0.000000</td>\n      <td>NaN</td>\n    </tr>\n  </tbody>\n</table>\n</div>"
          },
          "metadata": {}
        }
      ]
    },
    {
      "cell_type": "markdown",
      "source": "### Export data frame",
      "metadata": {}
    },
    {
      "cell_type": "code",
      "source": "result_df_per_id.to_csv('df_batch_values.csv', index=False)",
      "metadata": {
        "trusted": true
      },
      "execution_count": 13,
      "outputs": []
    },
    {
      "cell_type": "markdown",
      "source": "## Povit data from long format to wide format",
      "metadata": {}
    },
    {
      "cell_type": "code",
      "source": "# Load the provided CSV file\ndf_batch_values = pd.read_csv('df_batch_values.csv')\n\n# Pivot the dataframe to wide format\ndf_wide = df_batch_values.pivot(index='ID', columns='Tissue Type')\n\n# Flatten the MultiIndex to make the column naming clearer\ndf_wide.columns = ['_'.join(col).strip() for col in df_wide.columns.values]\n\ndf_wide.reset_index(inplace=True)\ndf_wide.head(10)\n",
      "metadata": {
        "trusted": true
      },
      "execution_count": 15,
      "outputs": [
        {
          "execution_count": 15,
          "output_type": "execute_result",
          "data": {
            "text/plain": "    ID  Pixel Count_C.Ar  Pixel Count_ECCC  Pixel Count_ELAM  Pixel Count_EPF  \\\n0  101           1224744                 0            218250                0   \n1   11            641657                 0               659                0   \n2   13           1301092             45373             18281                0   \n3   14            985308             52255               376                0   \n4   15           1158326             14168             29392                0   \n5   16           1121248              6598              1384                0   \n6   18           1804662            122073            124163                0   \n7   21            647860                 0             17696              962   \n8   25           1020257             14852             10188             3671   \n9   27            508195                 0              1944                0   \n\n   Pixel Count_EPF-LAM  Pixel Count_FLC  Pixel Count_FLC-LZPO  \\\n0                 3508                0                  3512   \n1                 2447                0                  5546   \n2                14364                0                     0   \n3                10107                0                  3721   \n4                 2592                0                  1846   \n5                 7387                0                     0   \n6                86510                0                     0   \n7                21818                0                 69567   \n8                20274                0                   907   \n9                 9314             3397                158362   \n\n   Pixel Count_HAV  Pixel Count_INT  ...  Percent of E.Ar_EPF-LAM  \\\n0           101630                0  ...                 1.581905   \n1            38259                0  ...                78.783001   \n2           167289                0  ...                18.411136   \n3            73937                0  ...                16.109854   \n4            47126                0  ...                 5.616225   \n5            63140                0  ...                48.064285   \n6           404409                0  ...                25.998810   \n7            81756                0  ...                53.903548   \n8            83675                0  ...                41.388180   \n9            12447                0  ...                82.732279   \n\n   Percent of E.Ar_FLC  Percent of E.Ar_FLC-LZPO  Percent of E.Ar_HAV  \\\n0                  NaN                       NaN                  NaN   \n1                  NaN                       NaN                  NaN   \n2                  NaN                       NaN                  NaN   \n3                  NaN                       NaN                  NaN   \n4                  NaN                       NaN                  NaN   \n5                  NaN                       NaN                  NaN   \n6                  NaN                       NaN                  NaN   \n7                  NaN                       NaN                  NaN   \n8                  NaN                       NaN                  NaN   \n9                  NaN                       NaN                  NaN   \n\n   Percent of E.Ar_INT  Percent of E.Ar_LAM  Percent of E.Ar_PF  \\\n0                  NaN                  NaN                 NaN   \n1                  NaN                  NaN                 NaN   \n2                  NaN                  NaN                 NaN   \n3                  NaN                  NaN                 NaN   \n4                  NaN                  NaN                 NaN   \n5                  NaN                  NaN                 NaN   \n6                  NaN                  NaN                 NaN   \n7                  NaN                  NaN                 NaN   \n8                  NaN                  NaN                 NaN   \n9                  NaN                  NaN                 NaN   \n\n   Percent of E.Ar_PF-LAM  Percent of E.Ar_SF  Percent of E.Ar_WOV  \n0                     NaN                 NaN                  NaN  \n1                     NaN                 NaN                  NaN  \n2                     NaN                 NaN                  NaN  \n3                     NaN                 NaN                  NaN  \n4                     NaN                 NaN                  NaN  \n5                     NaN                 NaN                  NaN  \n6                     NaN                 NaN                  NaN  \n7                     NaN                 NaN                  NaN  \n8                     NaN                 NaN                  NaN  \n9                     NaN                 NaN                  NaN  \n\n[10 rows x 57 columns]",
            "text/html": "<div>\n<style scoped>\n    .dataframe tbody tr th:only-of-type {\n        vertical-align: middle;\n    }\n\n    .dataframe tbody tr th {\n        vertical-align: top;\n    }\n\n    .dataframe thead th {\n        text-align: right;\n    }\n</style>\n<table border=\"1\" class=\"dataframe\">\n  <thead>\n    <tr style=\"text-align: right;\">\n      <th></th>\n      <th>ID</th>\n      <th>Pixel Count_C.Ar</th>\n      <th>Pixel Count_ECCC</th>\n      <th>Pixel Count_ELAM</th>\n      <th>Pixel Count_EPF</th>\n      <th>Pixel Count_EPF-LAM</th>\n      <th>Pixel Count_FLC</th>\n      <th>Pixel Count_FLC-LZPO</th>\n      <th>Pixel Count_HAV</th>\n      <th>Pixel Count_INT</th>\n      <th>...</th>\n      <th>Percent of E.Ar_EPF-LAM</th>\n      <th>Percent of E.Ar_FLC</th>\n      <th>Percent of E.Ar_FLC-LZPO</th>\n      <th>Percent of E.Ar_HAV</th>\n      <th>Percent of E.Ar_INT</th>\n      <th>Percent of E.Ar_LAM</th>\n      <th>Percent of E.Ar_PF</th>\n      <th>Percent of E.Ar_PF-LAM</th>\n      <th>Percent of E.Ar_SF</th>\n      <th>Percent of E.Ar_WOV</th>\n    </tr>\n  </thead>\n  <tbody>\n    <tr>\n      <th>0</th>\n      <td>101</td>\n      <td>1224744</td>\n      <td>0</td>\n      <td>218250</td>\n      <td>0</td>\n      <td>3508</td>\n      <td>0</td>\n      <td>3512</td>\n      <td>101630</td>\n      <td>0</td>\n      <td>...</td>\n      <td>1.581905</td>\n      <td>NaN</td>\n      <td>NaN</td>\n      <td>NaN</td>\n      <td>NaN</td>\n      <td>NaN</td>\n      <td>NaN</td>\n      <td>NaN</td>\n      <td>NaN</td>\n      <td>NaN</td>\n    </tr>\n    <tr>\n      <th>1</th>\n      <td>11</td>\n      <td>641657</td>\n      <td>0</td>\n      <td>659</td>\n      <td>0</td>\n      <td>2447</td>\n      <td>0</td>\n      <td>5546</td>\n      <td>38259</td>\n      <td>0</td>\n      <td>...</td>\n      <td>78.783001</td>\n      <td>NaN</td>\n      <td>NaN</td>\n      <td>NaN</td>\n      <td>NaN</td>\n      <td>NaN</td>\n      <td>NaN</td>\n      <td>NaN</td>\n      <td>NaN</td>\n      <td>NaN</td>\n    </tr>\n    <tr>\n      <th>2</th>\n      <td>13</td>\n      <td>1301092</td>\n      <td>45373</td>\n      <td>18281</td>\n      <td>0</td>\n      <td>14364</td>\n      <td>0</td>\n      <td>0</td>\n      <td>167289</td>\n      <td>0</td>\n      <td>...</td>\n      <td>18.411136</td>\n      <td>NaN</td>\n      <td>NaN</td>\n      <td>NaN</td>\n      <td>NaN</td>\n      <td>NaN</td>\n      <td>NaN</td>\n      <td>NaN</td>\n      <td>NaN</td>\n      <td>NaN</td>\n    </tr>\n    <tr>\n      <th>3</th>\n      <td>14</td>\n      <td>985308</td>\n      <td>52255</td>\n      <td>376</td>\n      <td>0</td>\n      <td>10107</td>\n      <td>0</td>\n      <td>3721</td>\n      <td>73937</td>\n      <td>0</td>\n      <td>...</td>\n      <td>16.109854</td>\n      <td>NaN</td>\n      <td>NaN</td>\n      <td>NaN</td>\n      <td>NaN</td>\n      <td>NaN</td>\n      <td>NaN</td>\n      <td>NaN</td>\n      <td>NaN</td>\n      <td>NaN</td>\n    </tr>\n    <tr>\n      <th>4</th>\n      <td>15</td>\n      <td>1158326</td>\n      <td>14168</td>\n      <td>29392</td>\n      <td>0</td>\n      <td>2592</td>\n      <td>0</td>\n      <td>1846</td>\n      <td>47126</td>\n      <td>0</td>\n      <td>...</td>\n      <td>5.616225</td>\n      <td>NaN</td>\n      <td>NaN</td>\n      <td>NaN</td>\n      <td>NaN</td>\n      <td>NaN</td>\n      <td>NaN</td>\n      <td>NaN</td>\n      <td>NaN</td>\n      <td>NaN</td>\n    </tr>\n    <tr>\n      <th>5</th>\n      <td>16</td>\n      <td>1121248</td>\n      <td>6598</td>\n      <td>1384</td>\n      <td>0</td>\n      <td>7387</td>\n      <td>0</td>\n      <td>0</td>\n      <td>63140</td>\n      <td>0</td>\n      <td>...</td>\n      <td>48.064285</td>\n      <td>NaN</td>\n      <td>NaN</td>\n      <td>NaN</td>\n      <td>NaN</td>\n      <td>NaN</td>\n      <td>NaN</td>\n      <td>NaN</td>\n      <td>NaN</td>\n      <td>NaN</td>\n    </tr>\n    <tr>\n      <th>6</th>\n      <td>18</td>\n      <td>1804662</td>\n      <td>122073</td>\n      <td>124163</td>\n      <td>0</td>\n      <td>86510</td>\n      <td>0</td>\n      <td>0</td>\n      <td>404409</td>\n      <td>0</td>\n      <td>...</td>\n      <td>25.998810</td>\n      <td>NaN</td>\n      <td>NaN</td>\n      <td>NaN</td>\n      <td>NaN</td>\n      <td>NaN</td>\n      <td>NaN</td>\n      <td>NaN</td>\n      <td>NaN</td>\n      <td>NaN</td>\n    </tr>\n    <tr>\n      <th>7</th>\n      <td>21</td>\n      <td>647860</td>\n      <td>0</td>\n      <td>17696</td>\n      <td>962</td>\n      <td>21818</td>\n      <td>0</td>\n      <td>69567</td>\n      <td>81756</td>\n      <td>0</td>\n      <td>...</td>\n      <td>53.903548</td>\n      <td>NaN</td>\n      <td>NaN</td>\n      <td>NaN</td>\n      <td>NaN</td>\n      <td>NaN</td>\n      <td>NaN</td>\n      <td>NaN</td>\n      <td>NaN</td>\n      <td>NaN</td>\n    </tr>\n    <tr>\n      <th>8</th>\n      <td>25</td>\n      <td>1020257</td>\n      <td>14852</td>\n      <td>10188</td>\n      <td>3671</td>\n      <td>20274</td>\n      <td>0</td>\n      <td>907</td>\n      <td>83675</td>\n      <td>0</td>\n      <td>...</td>\n      <td>41.388180</td>\n      <td>NaN</td>\n      <td>NaN</td>\n      <td>NaN</td>\n      <td>NaN</td>\n      <td>NaN</td>\n      <td>NaN</td>\n      <td>NaN</td>\n      <td>NaN</td>\n      <td>NaN</td>\n    </tr>\n    <tr>\n      <th>9</th>\n      <td>27</td>\n      <td>508195</td>\n      <td>0</td>\n      <td>1944</td>\n      <td>0</td>\n      <td>9314</td>\n      <td>3397</td>\n      <td>158362</td>\n      <td>12447</td>\n      <td>0</td>\n      <td>...</td>\n      <td>82.732279</td>\n      <td>NaN</td>\n      <td>NaN</td>\n      <td>NaN</td>\n      <td>NaN</td>\n      <td>NaN</td>\n      <td>NaN</td>\n      <td>NaN</td>\n      <td>NaN</td>\n      <td>NaN</td>\n    </tr>\n  </tbody>\n</table>\n<p>10 rows × 57 columns</p>\n</div>"
          },
          "metadata": {}
        }
      ]
    },
    {
      "cell_type": "code",
      "source": "### Export data frame",
      "metadata": {},
      "execution_count": null,
      "outputs": []
    },
    {
      "cell_type": "code",
      "source": "",
      "metadata": {},
      "execution_count": null,
      "outputs": []
    }
  ]
}
